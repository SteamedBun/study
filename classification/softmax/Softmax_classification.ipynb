{
 "cells": [
  {
   "cell_type": "markdown",
   "metadata": {
    "deletable": true,
    "editable": true
   },
   "source": [
    "### Softmax classification"
   ]
  },
  {
   "cell_type": "code",
   "execution_count": 1,
   "metadata": {
    "ExecuteTime": {
     "end_time": "2017-03-24T22:12:30.746407Z",
     "start_time": "2017-03-25T07:12:29.887915+09:00"
    },
    "collapsed": true,
    "deletable": true,
    "editable": true
   },
   "outputs": [],
   "source": [
    "import tensorflow as tf\n",
    "import numpy as np"
   ]
  },
  {
   "cell_type": "code",
   "execution_count": 2,
   "metadata": {
    "ExecuteTime": {
     "end_time": "2017-03-24T22:12:30.753183Z",
     "start_time": "2017-03-25T07:12:30.747520+09:00"
    },
    "collapsed": true,
    "deletable": true,
    "editable": true
   },
   "outputs": [],
   "source": [
    "xy = np.loadtxt('../data/softmax_data.txt',unpack=True, dtype='float32')\n",
    "x_data = np.transpose(xy[0:3])\n",
    "y_data = np.transpose(xy[3:])"
   ]
  },
  {
   "cell_type": "markdown",
   "metadata": {
    "deletable": true,
    "editable": true
   },
   "source": [
    "### Data\n",
    "![Multinomial Classification](multinomial_classification0.png)\n",
    "![Multinomial Classification](multinomial_classification.png)\n",
    "![Multinomial Classification](multinomial_classification2.png)\n",
    "![Multinomial Classification](multinomial_classification3.png)\n",
    "![Multinomial Classification](where_is_sigmoid.png)\n",
    "![Softmax](softmax.png)\n",
    "![OneHot](one_hot_encoding.png)\n",
    "![CrossEntropy](cross_entropy.png)\n",
    "![CrossEntropy](cross_entropy_2.png)\n",
    "![CostFunction](cost_function1.png)\n",
    "![CostFunction](cost_function2.png)"
   ]
  },
  {
   "cell_type": "code",
   "execution_count": 3,
   "metadata": {
    "ExecuteTime": {
     "end_time": "2017-03-24T22:12:30.770566Z",
     "start_time": "2017-03-25T07:12:30.756220+09:00"
    },
    "collapsed": false,
    "deletable": true,
    "editable": true
   },
   "outputs": [
    {
     "data": {
      "text/plain": [
       "array([[ 1.,  2.,  1.,  0.,  0.,  1.],\n",
       "       [ 1.,  3.,  2.,  0.,  0.,  1.],\n",
       "       [ 1.,  3.,  4.,  0.,  0.,  1.],\n",
       "       [ 1.,  5.,  5.,  0.,  1.,  0.],\n",
       "       [ 1.,  7.,  5.,  0.,  1.,  0.],\n",
       "       [ 1.,  2.,  5.,  0.,  1.,  0.],\n",
       "       [ 1.,  6.,  6.,  1.,  0.,  0.],\n",
       "       [ 1.,  7.,  7.,  1.,  0.,  0.]], dtype=float32)"
      ]
     },
     "execution_count": 3,
     "metadata": {},
     "output_type": "execute_result"
    }
   ],
   "source": [
    "np.transpose(xy)"
   ]
  },
  {
   "cell_type": "code",
   "execution_count": 4,
   "metadata": {
    "ExecuteTime": {
     "end_time": "2017-03-24T22:12:34.312934Z",
     "start_time": "2017-03-25T07:12:30.771856+09:00"
    },
    "collapsed": false,
    "deletable": true,
    "editable": true,
    "scrolled": false
   },
   "outputs": [
    {
     "name": "stdout",
     "output_type": "stream",
     "text": [
      "0 1.09774 [[ -8.33333252e-05   4.16666626e-05   4.16666480e-05]\n",
      " [  1.66666665e-04   2.91666714e-04  -4.58333379e-04]\n",
      " [  1.66666723e-04   4.16666706e-04  -5.83333313e-04]]\n",
      "200 1.05962 [[-0.02051385 -0.00103983  0.02155367]\n",
      " [ 0.01406439  0.01097753 -0.0250419 ]\n",
      " [ 0.01431208  0.03574874 -0.05006079]]\n",
      "400 1.04985 [[-0.04282598 -0.00625899  0.04908496]\n",
      " [ 0.01747187  0.00156368 -0.01903554]\n",
      " [ 0.01831204  0.04954105 -0.06785304]]\n",
      "600 1.0407 [[-0.0651786  -0.01176361  0.07694222]\n",
      " [ 0.01943522 -0.00848972 -0.01094547]\n",
      " [ 0.0211558   0.06118308 -0.0823388 ]]\n",
      "800 1.03194 [[-0.08734014 -0.01729389  0.10463405]\n",
      " [ 0.0211172  -0.01796172 -0.00315547]\n",
      " [ 0.02396628  0.07198346 -0.09594975]]\n",
      "1000 1.02354 [[-0.10928575 -0.02282182  0.13210757]\n",
      " [ 0.02266254 -0.02678035  0.00411784]\n",
      " [ 0.02685852  0.08210357 -0.10896213]]\n",
      "1200 1.01547 [[-0.13101467 -0.02834092  0.15935561]\n",
      " [ 0.02409703 -0.0349762   0.01087924]\n",
      " [ 0.02983199  0.09159798 -0.12143002]]\n",
      "1400 1.0077 [[-0.15252906 -0.03384715  0.18637618]\n",
      " [ 0.02543302 -0.04258837  0.01715543]\n",
      " [ 0.03287465  0.10050803 -0.13338272]]\n",
      "1600 1.00021 [[-0.1738314  -0.03933692  0.21316831]\n",
      " [ 0.02668082 -0.04965463  0.02297391]\n",
      " [ 0.03597424  0.10887133 -0.14484566]]\n",
      "1800 0.992979 [[-0.19492455 -0.04480688  0.23973146]\n",
      " [ 0.02784993 -0.05621056  0.02836075]\n",
      " [ 0.03911952  0.11672311 -0.15584266]]\n"
     ]
    }
   ],
   "source": [
    "X = tf.placeholder(\"float\",[None, 3])\n",
    "Y = tf.placeholder(\"float\",[None, 3])\n",
    "\n",
    "W = tf.Variable(tf.zeros([3,3]))\n",
    "h = tf.nn.softmax(tf.matmul(X,W))\n",
    "learning_rate = 0.001\n",
    "\n",
    "cost = tf.reduce_mean(-tf.reduce_sum(Y*tf.log(h),reduction_indices=1))\n",
    "opt = tf.train.GradientDescentOptimizer(learning_rate).minimize(cost)\n",
    "init = tf.global_variables_initializer()\n",
    "\n",
    "sess = tf.Session()\n",
    "sess.run(init)\n",
    "for step in range(2000):\n",
    "    sess.run(opt, feed_dict={X:x_data, Y:y_data})\n",
    "    if step % 200 == 0:\n",
    "        print(step, sess.run(cost,feed_dict={X:x_data,Y:y_data}),sess.run(W))"
   ]
  },
  {
   "cell_type": "markdown",
   "metadata": {
    "collapsed": true,
    "deletable": true,
    "editable": true
   },
   "source": [
    "### Test & one-hot encoding"
   ]
  },
  {
   "cell_type": "code",
   "execution_count": 5,
   "metadata": {
    "ExecuteTime": {
     "end_time": "2017-03-24T22:12:34.360435Z",
     "start_time": "2017-03-25T07:12:34.314154+09:00"
    },
    "collapsed": false,
    "deletable": true,
    "editable": true
   },
   "outputs": [
    {
     "name": "stdout",
     "output_type": "stream",
     "text": [
      "[[ 0.46269614  0.35486573  0.18243809]] [0]\n",
      "[[ 0.33821005  0.42100322  0.24078675]] [1]\n",
      "[[ 0.27005655  0.29087913  0.43906435]] [2]\n",
      "[[ 0.27005655  0.29087913  0.43906435]\n",
      " [ 0.33821005  0.42100322  0.24078675]\n",
      " [ 0.27005655  0.29087913  0.43906435]] [2 1 2]\n"
     ]
    }
   ],
   "source": [
    "a = sess.run(h, feed_dict={X:[[1,11,7]]})\n",
    "print(a,sess.run(tf.arg_max(a,1)))\n",
    "\n",
    "b = sess.run(h, feed_dict={X:[[1,3,4]]})\n",
    "print(b,sess.run(tf.arg_max(b,1)))\n",
    "\n",
    "c = sess.run(h, feed_dict={X:[[1,1,0]]})\n",
    "print(c,sess.run(tf.arg_max(c,1)))\n",
    "\n",
    "all = sess.run(h, feed_dict={X:[[1,1,0],[1,3,4],[1,1,0]]})\n",
    "print(all,sess.run(tf.arg_max(all,1)))"
   ]
  }
 ],
 "metadata": {
  "kernelspec": {
   "display_name": "Python36",
   "language": "python",
   "name": "python3"
  },
  "language_info": {
   "codemirror_mode": {
    "name": "ipython",
    "version": 3
   },
   "file_extension": ".py",
   "mimetype": "text/x-python",
   "name": "python",
   "nbconvert_exporter": "python",
   "pygments_lexer": "ipython3",
   "version": "3.6.0"
  },
  "latex_envs": {
   "LaTeX_envs_menu_present": true,
   "autocomplete": true,
   "bibliofile": "biblio.bib",
   "cite_by": "apalike",
   "current_citInitial": 1,
   "eqLabelWithNumbers": true,
   "eqNumInitial": 1,
   "hotkeys": {
    "equation": "Ctrl-E",
    "itemize": "Ctrl-I"
   },
   "labels_anchors": false,
   "latex_user_defs": false,
   "report_style_numbering": false,
   "user_envs_cfg": false
  },
  "toc": {
   "colors": {
    "hover_highlight": "#DAA520",
    "running_highlight": "#FF0000",
    "selected_highlight": "#FFD700"
   },
   "moveMenuLeft": true,
   "nav_menu": {
    "height": "66px",
    "width": "252px"
   },
   "navigate_menu": true,
   "number_sections": true,
   "sideBar": false,
   "threshold": 4,
   "toc_cell": false,
   "toc_position": {
    "height": "757px",
    "left": "0.994318px",
    "right": "20px",
    "top": "103.991px",
    "width": "225px"
   },
   "toc_section_display": "block",
   "toc_window_display": false
  }
 },
 "nbformat": 4,
 "nbformat_minor": 2
}
