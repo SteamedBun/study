{
 "cells": [
  {
   "cell_type": "code",
   "execution_count": 43,
   "metadata": {},
   "outputs": [
    {
     "data": {
      "text/plain": [
       "'3.6.0 (default, Feb 26 2017, 20:43:59) \\n[GCC 5.4.0 20160609]'"
      ]
     },
     "execution_count": 43,
     "metadata": {},
     "output_type": "execute_result"
    }
   ],
   "source": [
    "import sys\n",
    "sys.version"
   ]
  },
  {
   "cell_type": "code",
   "execution_count": 44,
   "metadata": {},
   "outputs": [
    {
     "data": {
      "text/plain": [
       "'1.0.0'"
      ]
     },
     "execution_count": 44,
     "metadata": {},
     "output_type": "execute_result"
    }
   ],
   "source": [
    "import tensorflow as tf\n",
    "tf.__version__"
   ]
  },
  {
   "cell_type": "code",
   "execution_count": 45,
   "metadata": {},
   "outputs": [],
   "source": [
    "import matplotlib.pyplot as plt"
   ]
  },
  {
   "cell_type": "markdown",
   "metadata": {},
   "source": [
    "### Linear Regression"
   ]
  },
  {
   "cell_type": "markdown",
   "metadata": {
    "collapsed": true
   },
   "source": [
    "H(x) = W(x) + b\n",
    "\n",
    "cost(W,b) = 1/m sig( h(x(i)) - y(i) ) ^2"
   ]
  },
  {
   "cell_type": "code",
   "execution_count": 46,
   "metadata": {},
   "outputs": [
    {
     "name": "stdout",
     "output_type": "stream",
     "text": [
      "Tensor(\"add_6:0\", shape=(3,), dtype=float32)\n"
     ]
    }
   ],
   "source": [
    "x_data = [1, 2, 3]\n",
    "y_data = [1, 2, 3]\n",
    "\n",
    "W = tf.Variable(tf.random_uniform([1], -1.0, 1.0))\n",
    "b = tf.Variable(tf.random_uniform([1], -1.0, 1.0))\n",
    "\n",
    "h = W * x_data + b\n",
    "\n",
    "print(h)\n",
    "cost = tf.reduce_mean(tf.square(h - y_data))"
   ]
  },
  {
   "cell_type": "code",
   "execution_count": 47,
   "metadata": {
    "collapsed": true
   },
   "outputs": [],
   "source": [
    "a = tf.Variable(0.1) #Learninig rate\n",
    "optimizer = tf.train.GradientDescentOptimizer(a)\n",
    "init = tf.global_variables_initializer()\n",
    "train = optimizer.minimize(cost)\n",
    "sess = tf.Session()\n",
    "sess.run(init)\n"
   ]
  },
  {
   "cell_type": "code",
   "execution_count": 48,
   "metadata": {},
   "outputs": [
    {
     "name": "stdout",
     "output_type": "stream",
     "text": [
      "0 0.0776009 [ 0.66442883] [ 0.72143012]\n",
      "20 0.0287373 [ 0.80311227] [ 0.44757217]\n",
      "40 0.0108577 [ 0.87897772] [ 0.275112]\n",
      "60 0.00410234 [ 0.92561042] [ 0.1691048]\n",
      "80 0.00154997 [ 0.95427459] [ 0.10394475]\n",
      "100 0.000585623 [ 0.97189367] [ 0.06389237]\n",
      "120 0.000221265 [ 0.98272365] [ 0.03927311]\n",
      "140 8.35991e-05 [ 0.98938066] [ 0.02414022]\n",
      "160 3.15861e-05 [ 0.99347258] [ 0.0148384]\n",
      "180 1.19339e-05 [ 0.99598771] [ 0.00912082]\n",
      "200 4.50898e-06 [ 0.99753374] [ 0.00560633]\n",
      "220 1.70356e-06 [ 0.99848408] [ 0.00344606]\n",
      "240 6.43704e-07 [ 0.9990682] [ 0.00211814]\n",
      "260 2.43179e-07 [ 0.99942732] [ 0.00130196]\n",
      "280 9.18769e-08 [ 0.99964797] [ 0.00080027]\n",
      "300 3.46928e-08 [ 0.99978364] [ 0.00049187]\n",
      "320 1.31165e-08 [ 0.99986702] [ 0.00030235]\n",
      "340 4.95829e-09 [ 0.99991822] [ 0.00018581]\n",
      "360 1.86602e-09 [ 0.99994975] [ 0.00011417]\n",
      "380 7.06488e-10 [ 0.99996912] [  7.02062680e-05]\n",
      "400 2.676e-10 [ 0.99998093] [  4.31378139e-05]\n",
      "420 1.01773e-10 [ 0.99998832] [  2.65677209e-05]\n",
      "440 3.84688e-11 [ 0.99999285] [  1.62918786e-05]\n",
      "460 1.46514e-11 [ 0.99999559] [  1.00135212e-05]\n",
      "480 5.36697e-12 [ 0.99999732] [  6.14319470e-06]\n",
      "500 2.08426e-12 [ 0.99999833] [  3.79874541e-06]\n",
      "520 7.62649e-13 [ 0.99999899] [  2.32849811e-06]\n",
      "540 3.2685e-13 [ 0.99999934] [  1.43840248e-06]\n",
      "560 9.4739e-14 [ 0.99999958] [  8.74145542e-07]\n",
      "580 6.15804e-14 [ 0.99999964] [  6.75463582e-07]\n",
      "600 6.15804e-14 [ 0.99999976] [  5.48307071e-07]\n",
      "620 2.36848e-14 [ 0.99999988] [  2.78099265e-07]\n",
      "640 1.89478e-14 [ 0.99999994] [  1.19153448e-07]\n",
      "660 0.0 [ 1.] [  5.55751640e-08]\n",
      "680 0.0 [ 1.] [  5.55751640e-08]\n",
      "700 0.0 [ 1.] [  5.55751640e-08]\n",
      "720 0.0 [ 1.] [  5.55751640e-08]\n",
      "740 0.0 [ 1.] [  5.55751640e-08]\n",
      "760 0.0 [ 1.] [  5.55751640e-08]\n",
      "780 0.0 [ 1.] [  5.55751640e-08]\n",
      "800 0.0 [ 1.] [  5.55751640e-08]\n",
      "820 0.0 [ 1.] [  5.55751640e-08]\n",
      "840 0.0 [ 1.] [  5.55751640e-08]\n",
      "860 0.0 [ 1.] [  5.55751640e-08]\n",
      "880 0.0 [ 1.] [  5.55751640e-08]\n",
      "900 0.0 [ 1.] [  5.55751640e-08]\n",
      "920 0.0 [ 1.] [  5.55751640e-08]\n",
      "940 0.0 [ 1.] [  5.55751640e-08]\n",
      "960 0.0 [ 1.] [  5.55751640e-08]\n",
      "980 0.0 [ 1.] [  5.55751640e-08]\n",
      "1000 0.0 [ 1.] [  5.55751640e-08]\n",
      "1020 0.0 [ 1.] [  5.55751640e-08]\n",
      "1040 0.0 [ 1.] [  5.55751640e-08]\n",
      "1060 0.0 [ 1.] [  5.55751640e-08]\n",
      "1080 0.0 [ 1.] [  5.55751640e-08]\n",
      "1100 0.0 [ 1.] [  5.55751640e-08]\n",
      "1120 0.0 [ 1.] [  5.55751640e-08]\n",
      "1140 0.0 [ 1.] [  5.55751640e-08]\n",
      "1160 0.0 [ 1.] [  5.55751640e-08]\n",
      "1180 0.0 [ 1.] [  5.55751640e-08]\n",
      "1200 0.0 [ 1.] [  5.55751640e-08]\n",
      "1220 0.0 [ 1.] [  5.55751640e-08]\n",
      "1240 0.0 [ 1.] [  5.55751640e-08]\n",
      "1260 0.0 [ 1.] [  5.55751640e-08]\n",
      "1280 0.0 [ 1.] [  5.55751640e-08]\n",
      "1300 0.0 [ 1.] [  5.55751640e-08]\n",
      "1320 0.0 [ 1.] [  5.55751640e-08]\n",
      "1340 0.0 [ 1.] [  5.55751640e-08]\n",
      "1360 0.0 [ 1.] [  5.55751640e-08]\n",
      "1380 0.0 [ 1.] [  5.55751640e-08]\n",
      "1400 0.0 [ 1.] [  5.55751640e-08]\n",
      "1420 0.0 [ 1.] [  5.55751640e-08]\n",
      "1440 0.0 [ 1.] [  5.55751640e-08]\n",
      "1460 0.0 [ 1.] [  5.55751640e-08]\n",
      "1480 0.0 [ 1.] [  5.55751640e-08]\n",
      "1500 0.0 [ 1.] [  5.55751640e-08]\n",
      "1520 0.0 [ 1.] [  5.55751640e-08]\n",
      "1540 0.0 [ 1.] [  5.55751640e-08]\n",
      "1560 0.0 [ 1.] [  5.55751640e-08]\n",
      "1580 0.0 [ 1.] [  5.55751640e-08]\n",
      "1600 0.0 [ 1.] [  5.55751640e-08]\n",
      "1620 0.0 [ 1.] [  5.55751640e-08]\n",
      "1640 0.0 [ 1.] [  5.55751640e-08]\n",
      "1660 0.0 [ 1.] [  5.55751640e-08]\n",
      "1680 0.0 [ 1.] [  5.55751640e-08]\n",
      "1700 0.0 [ 1.] [  5.55751640e-08]\n",
      "1720 0.0 [ 1.] [  5.55751640e-08]\n",
      "1740 0.0 [ 1.] [  5.55751640e-08]\n",
      "1760 0.0 [ 1.] [  5.55751640e-08]\n",
      "1780 0.0 [ 1.] [  5.55751640e-08]\n",
      "1800 0.0 [ 1.] [  5.55751640e-08]\n",
      "1820 0.0 [ 1.] [  5.55751640e-08]\n",
      "1840 0.0 [ 1.] [  5.55751640e-08]\n",
      "1860 0.0 [ 1.] [  5.55751640e-08]\n",
      "1880 0.0 [ 1.] [  5.55751640e-08]\n",
      "1900 0.0 [ 1.] [  5.55751640e-08]\n",
      "1920 0.0 [ 1.] [  5.55751640e-08]\n",
      "1940 0.0 [ 1.] [  5.55751640e-08]\n",
      "1960 0.0 [ 1.] [  5.55751640e-08]\n",
      "1980 0.0 [ 1.] [  5.55751640e-08]\n"
     ]
    }
   ],
   "source": [
    "for step in range(2000):\n",
    "    sess.run(train)\n",
    "    if step % 20 == 0:\n",
    "        print(step,sess.run(cost),sess.run(W), sess.run(b))"
   ]
  },
  {
   "cell_type": "markdown",
   "metadata": {},
   "source": [
    "### With placeholder\n"
   ]
  },
  {
   "cell_type": "code",
   "execution_count": 49,
   "metadata": {
    "collapsed": true
   },
   "outputs": [],
   "source": [
    "x_data = [1., 2., 3.]\n",
    "y_data = [1., 2., 3.]\n",
    "\n",
    "X = tf.placeholder(tf.float32)\n",
    "Y = tf.placeholder(tf.float32)\n",
    "\n",
    "h = W * X + b\n",
    "cost = tf.reduce_mean(tf.square(h - Y))\n",
    "a = tf.Variable(0.1)\n",
    "init = tf.global_variables_initializer()\n",
    "opt = tf.train.GradientDescentOptimizer(a)\n",
    "train = opt.minimize(cost)\n",
    "\n",
    "sess = tf.Session()\n",
    "sess.run(init)"
   ]
  },
  {
   "cell_type": "code",
   "execution_count": 50,
   "metadata": {},
   "outputs": [
    {
     "name": "stdout",
     "output_type": "stream",
     "text": [
      "0 0.208318 [ 0.67133313] [ 1.02652621]\n",
      "20 0.0521857 [ 0.7346791] [ 0.60313684]\n",
      "40 0.0197171 [ 0.83691359] [ 0.37073383]\n",
      "60 0.00744966 [ 0.89975464] [ 0.22788128]\n",
      "80 0.00281468 [ 0.93838155] [ 0.14007321]\n",
      "100 0.00106346 [ 0.96212465] [ 0.0860997]\n",
      "120 0.000401805 [ 0.9767189] [ 0.05292342]\n",
      "140 0.000151813 [ 0.98568964] [ 0.0325308]\n",
      "160 5.73588e-05 [ 0.99120373] [ 0.01999592]\n",
      "180 2.16718e-05 [ 0.9945932] [ 0.01229101]\n",
      "200 8.188e-06 [ 0.99667656] [ 0.00755501]\n",
      "220 3.0939e-06 [ 0.99795711] [ 0.00464387]\n",
      "240 1.16883e-06 [ 0.99874431] [ 0.00285449]\n",
      "260 4.41575e-07 [ 0.99922812] [ 0.00175457]\n",
      "280 1.66892e-07 [ 0.99952555] [ 0.00107855]\n",
      "300 6.30523e-08 [ 0.99970835] [ 0.00066297]\n",
      "320 2.38371e-08 [ 0.99982071] [ 0.00040754]\n",
      "340 9.00379e-09 [ 0.99988973] [ 0.00025052]\n",
      "360 3.40038e-09 [ 0.99993223] [ 0.000154]\n",
      "380 1.2873e-09 [ 0.99995834] [  9.46714790e-05]\n",
      "400 4.87963e-10 [ 0.99997443] [  5.81775348e-05]\n",
      "420 1.83078e-10 [ 0.9999842] [  3.57264507e-05]\n",
      "440 6.96e-11 [ 0.99999028] [  2.19696958e-05]\n",
      "460 2.64701e-11 [ 0.99999404] [  1.35376249e-05]\n",
      "480 9.80075e-12 [ 0.9999963] [  8.30830959e-06]\n",
      "500 3.58114e-12 [ 0.99999774] [  5.13734221e-06]\n",
      "520 1.42109e-12 [ 0.99999857] [  3.14257409e-06]\n",
      "540 4.78432e-13 [ 0.99999917] [  1.96637575e-06]\n",
      "560 2.65269e-13 [ 0.99999946] [  1.22727863e-06]\n",
      "580 9.4739e-14 [ 0.99999964] [  7.98125541e-07]\n",
      "600 6.15804e-14 [ 0.9999997] [  6.39179973e-07]\n",
      "620 1.89478e-14 [ 0.99999982] [  4.56392428e-07]\n",
      "640 4.73695e-15 [ 0.99999994] [  2.17973735e-07]\n",
      "660 4.73695e-15 [ 1.] [  7.49225109e-08]\n",
      "680 0.0 [ 1.] [  5.90279399e-08]\n",
      "700 0.0 [ 1.] [  5.90279399e-08]\n",
      "720 0.0 [ 1.] [  5.90279399e-08]\n",
      "740 0.0 [ 1.] [  5.90279399e-08]\n",
      "760 0.0 [ 1.] [  5.90279399e-08]\n",
      "780 0.0 [ 1.] [  5.90279399e-08]\n",
      "800 0.0 [ 1.] [  5.90279399e-08]\n",
      "820 0.0 [ 1.] [  5.90279399e-08]\n",
      "840 0.0 [ 1.] [  5.90279399e-08]\n",
      "860 0.0 [ 1.] [  5.90279399e-08]\n",
      "880 0.0 [ 1.] [  5.90279399e-08]\n",
      "900 0.0 [ 1.] [  5.90279399e-08]\n",
      "920 0.0 [ 1.] [  5.90279399e-08]\n",
      "940 0.0 [ 1.] [  5.90279399e-08]\n",
      "960 0.0 [ 1.] [  5.90279399e-08]\n",
      "980 0.0 [ 1.] [  5.90279399e-08]\n",
      "1000 0.0 [ 1.] [  5.90279399e-08]\n",
      "1020 0.0 [ 1.] [  5.90279399e-08]\n",
      "1040 0.0 [ 1.] [  5.90279399e-08]\n",
      "1060 0.0 [ 1.] [  5.90279399e-08]\n",
      "1080 0.0 [ 1.] [  5.90279399e-08]\n",
      "1100 0.0 [ 1.] [  5.90279399e-08]\n",
      "1120 0.0 [ 1.] [  5.90279399e-08]\n",
      "1140 0.0 [ 1.] [  5.90279399e-08]\n",
      "1160 0.0 [ 1.] [  5.90279399e-08]\n",
      "1180 0.0 [ 1.] [  5.90279399e-08]\n",
      "1200 0.0 [ 1.] [  5.90279399e-08]\n",
      "1220 0.0 [ 1.] [  5.90279399e-08]\n",
      "1240 0.0 [ 1.] [  5.90279399e-08]\n",
      "1260 0.0 [ 1.] [  5.90279399e-08]\n",
      "1280 0.0 [ 1.] [  5.90279399e-08]\n",
      "1300 0.0 [ 1.] [  5.90279399e-08]\n",
      "1320 0.0 [ 1.] [  5.90279399e-08]\n",
      "1340 0.0 [ 1.] [  5.90279399e-08]\n",
      "1360 0.0 [ 1.] [  5.90279399e-08]\n",
      "1380 0.0 [ 1.] [  5.90279399e-08]\n",
      "1400 0.0 [ 1.] [  5.90279399e-08]\n",
      "1420 0.0 [ 1.] [  5.90279399e-08]\n",
      "1440 0.0 [ 1.] [  5.90279399e-08]\n",
      "1460 0.0 [ 1.] [  5.90279399e-08]\n",
      "1480 0.0 [ 1.] [  5.90279399e-08]\n",
      "1500 0.0 [ 1.] [  5.90279399e-08]\n",
      "1520 0.0 [ 1.] [  5.90279399e-08]\n",
      "1540 0.0 [ 1.] [  5.90279399e-08]\n",
      "1560 0.0 [ 1.] [  5.90279399e-08]\n",
      "1580 0.0 [ 1.] [  5.90279399e-08]\n",
      "1600 0.0 [ 1.] [  5.90279399e-08]\n",
      "1620 0.0 [ 1.] [  5.90279399e-08]\n",
      "1640 0.0 [ 1.] [  5.90279399e-08]\n",
      "1660 0.0 [ 1.] [  5.90279399e-08]\n",
      "1680 0.0 [ 1.] [  5.90279399e-08]\n",
      "1700 0.0 [ 1.] [  5.90279399e-08]\n",
      "1720 0.0 [ 1.] [  5.90279399e-08]\n",
      "1740 0.0 [ 1.] [  5.90279399e-08]\n",
      "1760 0.0 [ 1.] [  5.90279399e-08]\n",
      "1780 0.0 [ 1.] [  5.90279399e-08]\n",
      "1800 0.0 [ 1.] [  5.90279399e-08]\n",
      "1820 0.0 [ 1.] [  5.90279399e-08]\n",
      "1840 0.0 [ 1.] [  5.90279399e-08]\n",
      "1860 0.0 [ 1.] [  5.90279399e-08]\n",
      "1880 0.0 [ 1.] [  5.90279399e-08]\n",
      "1900 0.0 [ 1.] [  5.90279399e-08]\n",
      "1920 0.0 [ 1.] [  5.90279399e-08]\n",
      "1940 0.0 [ 1.] [  5.90279399e-08]\n",
      "1960 0.0 [ 1.] [  5.90279399e-08]\n",
      "1980 0.0 [ 1.] [  5.90279399e-08]\n"
     ]
    }
   ],
   "source": [
    "for step in range(2000):\n",
    "    sess.run(train,feed_dict={X:x_data, Y:y_data})\n",
    "    if step % 20 == 0:\n",
    "        print(step,sess.run(cost,feed_dict={X:x_data, Y:y_data}),sess.run(W), sess.run(b))"
   ]
  },
  {
   "cell_type": "markdown",
   "metadata": {},
   "source": [
    "### Predict value with feed"
   ]
  },
  {
   "cell_type": "code",
   "execution_count": 51,
   "metadata": {},
   "outputs": [
    {
     "name": "stdout",
     "output_type": "stream",
     "text": [
      "[ 5.]\n"
     ]
    }
   ],
   "source": [
    "print( sess.run(h, feed_dict={X:5}) )"
   ]
  },
  {
   "cell_type": "code",
   "execution_count": 52,
   "metadata": {},
   "outputs": [
    {
     "name": "stdout",
     "output_type": "stream",
     "text": [
      "[ 2.29999995]\n"
     ]
    }
   ],
   "source": [
    "print( sess.run(h, feed_dict={X:2.3}) )"
   ]
  },
  {
   "cell_type": "markdown",
   "metadata": {},
   "source": [
    "### Cost minizied(desent algorithm)"
   ]
  },
  {
   "cell_type": "code",
   "execution_count": 53,
   "metadata": {},
   "outputs": [
    {
     "name": "stdout",
     "output_type": "stream",
     "text": [
      "-3.0 74.6667\n",
      "-2.9000000000000004 70.98\n",
      "-2.8000000000000003 67.3867\n",
      "-2.7 63.8867\n",
      "-2.6 60.48\n",
      "-2.5 57.1667\n",
      "-2.4000000000000004 53.9467\n",
      "-2.3000000000000003 50.82\n",
      "-2.2 47.7867\n",
      "-2.1 44.8467\n",
      "-2.0 42.0\n",
      "-1.9000000000000001 39.2467\n",
      "-1.8 36.5867\n",
      "-1.7000000000000002 34.02\n",
      "-1.6 31.5467\n",
      "-1.5 29.1667\n",
      "-1.4000000000000001 26.88\n",
      "-1.3 24.6867\n",
      "-1.2000000000000002 22.5867\n",
      "-1.1 20.58\n",
      "-1.0 18.6667\n",
      "-0.9 16.8467\n",
      "-0.8 15.12\n",
      "-0.7000000000000001 13.4867\n",
      "-0.6000000000000001 11.9467\n",
      "-0.5 10.5\n",
      "-0.4 9.14666\n",
      "-0.30000000000000004 7.88667\n",
      "-0.2 6.72\n",
      "-0.1 5.64667\n",
      "0.0 4.66667\n",
      "0.1 3.78\n",
      "0.2 2.98667\n",
      "0.30000000000000004 2.28667\n",
      "0.4 1.68\n",
      "0.5 1.16667\n",
      "0.6000000000000001 0.746667\n",
      "0.7000000000000001 0.42\n",
      "0.8 0.186667\n",
      "0.9 0.0466667\n",
      "1.0 0.0\n",
      "1.1 0.0466667\n",
      "1.2000000000000002 0.186667\n",
      "1.3 0.42\n",
      "1.4000000000000001 0.746666\n",
      "1.5 1.16667\n",
      "1.6 1.68\n",
      "1.7000000000000002 2.28667\n",
      "1.8 2.98667\n",
      "1.9000000000000001 3.78\n",
      "2.0 4.66667\n",
      "2.1 5.64667\n",
      "2.2 6.72\n",
      "2.3000000000000003 7.88667\n",
      "2.4000000000000004 9.14667\n",
      "2.5 10.5\n",
      "2.6 11.9467\n",
      "2.7 13.4867\n",
      "2.8000000000000003 15.12\n",
      "2.9000000000000004 16.8467\n",
      "3.0 18.6667\n",
      "3.1 20.58\n",
      "3.2 22.5867\n",
      "3.3000000000000003 24.6867\n",
      "3.4000000000000004 26.88\n",
      "3.5 29.1667\n",
      "3.6 31.5467\n",
      "3.7 34.02\n",
      "3.8000000000000003 36.5867\n",
      "3.9000000000000004 39.2467\n",
      "4.0 42.0\n",
      "4.1000000000000005 44.8467\n",
      "4.2 47.7867\n",
      "4.3 50.82\n",
      "4.4 53.9467\n",
      "4.5 57.1667\n",
      "4.6000000000000005 60.48\n",
      "4.7 63.8867\n",
      "4.800000000000001 67.3867\n",
      "4.9 70.98\n"
     ]
    },
    {
     "data": {
      "image/png": "[encoded data removed]",
      "text/plain": [
       "<matplotlib.figure.Figure at 0x7f0f76581208>"
      ]
     },
     "metadata": {},
     "output_type": "display_data"
    }
   ],
   "source": [
    "X = [1., 2., 3.]\n",
    "Y = [1., 2., 3.]\n",
    "m = n_samples = len(X)\n",
    "\n",
    "W = tf.placeholder(tf.float32)\n",
    "h = tf.multiply(X,W)\n",
    "\n",
    "cost = tf.reduce_sum(tf.pow(h - Y, 2))/(m)\n",
    "init = tf.global_variables_initializer()\n",
    "\n",
    "W_val = []\n",
    "cost_val = []\n",
    "\n",
    "sess = tf.Session()\n",
    "sess.run(init)\n",
    "for i in range(-30, 50):\n",
    "    print(i*0.1, sess.run(cost, feed_dict={W: i*0.1}))\n",
    "    W_val.append(i*0.1)\n",
    "    cost_val.append(sess.run(cost, feed_dict={W: i*0.1}))\n",
    "    \n",
    "plt.plot(W_val, cost_val, 'ro')\n",
    "plt.ylabel('Cost')\n",
    "plt.xlabel('W')\n",
    "\n",
    "plt.show()"
   ]
  },
  {
   "cell_type": "markdown",
   "metadata": {},
   "source": [
    "### minimized"
   ]
  },
  {
   "cell_type": "code",
   "execution_count": 54,
   "metadata": {},
   "outputs": [
    {
     "name": "stdout",
     "output_type": "stream",
     "text": [
      "0 111.125 [-3.879807]\n",
      "1 31.6089 [-1.60256362]\n",
      "2 8.99098 [-0.38803387]\n",
      "3 2.55743 [ 0.25971526]\n",
      "4 0.727448 [ 0.60518146]\n",
      "5 0.206918 [ 0.78943014]\n",
      "6 0.0588568 [ 0.88769609]\n",
      "7 0.0167415 [ 0.9401046]\n",
      "8 0.00476202 [ 0.96805578]\n",
      "9 0.00135453 [ 0.98296309]\n",
      "10 0.00038529 [ 0.99091363]\n",
      "11 0.000109592 [ 0.99515396]\n",
      "12 3.11741e-05 [ 0.99741542]\n",
      "13 8.86649e-06 [ 0.99862158]\n",
      "14 2.522e-06 [ 0.99926484]\n",
      "15 7.17483e-07 [ 0.99960792]\n",
      "16 2.04026e-07 [ 0.99979091]\n",
      "17 5.8025e-08 [ 0.99988848]\n",
      "18 1.64989e-08 [ 0.99994051]\n",
      "19 4.69235e-09 [ 0.99996829]\n",
      "20 1.33722e-09 [ 0.99998307]\n",
      "21 3.76954e-10 [ 0.999991]\n",
      "22 1.09354e-10 [ 0.99999517]\n",
      "23 3.03508e-11 [ 0.99999744]\n",
      "24 8.60823e-12 [ 0.99999863]\n",
      "25 2.38742e-12 [ 0.99999928]\n",
      "26 5.16328e-13 [ 0.99999964]\n",
      "27 1.29082e-13 [ 0.99999982]\n",
      "28 9.9476e-14 [ 0.99999988]\n",
      "29 2.4869e-14 [ 0.99999994]\n",
      "30 0.0 [ 1.]\n",
      "31 0.0 [ 1.]\n",
      "32 0.0 [ 1.]\n",
      "33 0.0 [ 1.]\n",
      "34 0.0 [ 1.]\n",
      "35 0.0 [ 1.]\n",
      "36 0.0 [ 1.]\n",
      "37 0.0 [ 1.]\n",
      "38 0.0 [ 1.]\n",
      "39 0.0 [ 1.]\n",
      "40 0.0 [ 1.]\n",
      "41 0.0 [ 1.]\n",
      "42 0.0 [ 1.]\n",
      "43 0.0 [ 1.]\n",
      "44 0.0 [ 1.]\n",
      "45 0.0 [ 1.]\n",
      "46 0.0 [ 1.]\n",
      "47 0.0 [ 1.]\n",
      "48 0.0 [ 1.]\n",
      "49 0.0 [ 1.]\n",
      "50 0.0 [ 1.]\n",
      "51 0.0 [ 1.]\n",
      "52 0.0 [ 1.]\n",
      "53 0.0 [ 1.]\n",
      "54 0.0 [ 1.]\n",
      "55 0.0 [ 1.]\n",
      "56 0.0 [ 1.]\n",
      "57 0.0 [ 1.]\n",
      "58 0.0 [ 1.]\n",
      "59 0.0 [ 1.]\n",
      "60 0.0 [ 1.]\n",
      "61 0.0 [ 1.]\n",
      "62 0.0 [ 1.]\n",
      "63 0.0 [ 1.]\n",
      "64 0.0 [ 1.]\n",
      "65 0.0 [ 1.]\n",
      "66 0.0 [ 1.]\n",
      "67 0.0 [ 1.]\n",
      "68 0.0 [ 1.]\n",
      "69 0.0 [ 1.]\n",
      "70 0.0 [ 1.]\n",
      "71 0.0 [ 1.]\n",
      "72 0.0 [ 1.]\n",
      "73 0.0 [ 1.]\n",
      "74 0.0 [ 1.]\n",
      "75 0.0 [ 1.]\n",
      "76 0.0 [ 1.]\n",
      "77 0.0 [ 1.]\n",
      "78 0.0 [ 1.]\n",
      "79 0.0 [ 1.]\n",
      "80 0.0 [ 1.]\n",
      "81 0.0 [ 1.]\n",
      "82 0.0 [ 1.]\n",
      "83 0.0 [ 1.]\n",
      "84 0.0 [ 1.]\n",
      "85 0.0 [ 1.]\n",
      "86 0.0 [ 1.]\n",
      "87 0.0 [ 1.]\n",
      "88 0.0 [ 1.]\n",
      "89 0.0 [ 1.]\n",
      "90 0.0 [ 1.]\n",
      "91 0.0 [ 1.]\n",
      "92 0.0 [ 1.]\n",
      "93 0.0 [ 1.]\n",
      "94 0.0 [ 1.]\n",
      "95 0.0 [ 1.]\n",
      "96 0.0 [ 1.]\n",
      "97 0.0 [ 1.]\n",
      "98 0.0 [ 1.]\n",
      "99 0.0 [ 1.]\n"
     ]
    }
   ],
   "source": [
    "x_data = [1., 2., 3.]\n",
    "y_data = [1., 2., 3.]\n",
    "\n",
    "W = tf.Variable(tf.random_uniform([1], -10.0, 10.0))\n",
    "X = tf.placeholder(tf.float32)\n",
    "Y = tf.placeholder(tf.float32)\n",
    "\n",
    "h = W * X\n",
    "\n",
    "cost = tf.reduce_mean(tf.square(h - Y))\n",
    "descent = W - tf.multiply(0.1, tf.reduce_mean(tf.multiply((tf.multiply(W,X) - Y), X)))\n",
    "update = W.assign(descent)\n",
    "\n",
    "init = tf.global_variables_initializer()\n",
    "\n",
    "sess = tf.Session()\n",
    "sess.run(init)\n",
    "\n",
    "for step in range(100):\n",
    "    sess.run(update, feed_dict={X:x_data, Y:y_data})\n",
    "    print(step,sess.run(cost, feed_dict={X:x_data, Y:y_data}), sess.run(W))\n"
   ]
  }
 ],
 "metadata": {
  "kernelspec": {
   "display_name": "Python 3.6",
   "language": "python",
   "name": "python3"
  },
  "language_info": {
   "codemirror_mode": {
    "name": "ipython",
    "version": 3
   },
   "file_extension": ".py",
   "mimetype": "text/x-python",
   "name": "python",
   "nbconvert_exporter": "python",
   "pygments_lexer": "ipython3",
   "version": "3.6.0"
  }
 },
 "nbformat": 4,
 "nbformat_minor": 2
}
