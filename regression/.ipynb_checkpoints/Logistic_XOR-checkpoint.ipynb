{
 "cells": [
  {
   "cell_type": "markdown",
   "metadata": {},
   "source": [
    "### XOR Problem"
   ]
  },
  {
   "cell_type": "code",
   "execution_count": 51,
   "metadata": {
    "ExecuteTime": {
     "end_time": "2017-02-28T22:52:42.830699Z",
     "start_time": "2017-03-01T07:52:42.824598+09:00"
    },
    "collapsed": true
   },
   "outputs": [],
   "source": [
    "import tensorflow as tf\n",
    "import numpy as np"
   ]
  },
  {
   "cell_type": "code",
   "execution_count": 52,
   "metadata": {
    "ExecuteTime": {
     "end_time": "2017-02-28T22:52:42.841442Z",
     "start_time": "2017-03-01T07:52:42.833373+09:00"
    }
   },
   "outputs": [
    {
     "data": {
      "text/plain": [
       "array([[ 0.,  0.,  0.],\n",
       "       [ 0.,  1.,  1.],\n",
       "       [ 1.,  0.,  1.],\n",
       "       [ 1.,  1.,  0.]])"
      ]
     },
     "execution_count": 52,
     "metadata": {},
     "output_type": "execute_result"
    }
   ],
   "source": [
    "xy = np.loadtxt('data/xor_data.txt', unpack=True)\n",
    "x_data = xy[0:2]\n",
    "y_data = xy[2:]\n",
    "np.transpose(xy)"
   ]
  },
  {
   "cell_type": "code",
   "execution_count": 53,
   "metadata": {
    "ExecuteTime": {
     "end_time": "2017-02-28T22:52:42.858774Z",
     "start_time": "2017-03-01T07:52:42.843529+09:00"
    }
   },
   "outputs": [],
   "source": [
    "X = tf.placeholder(tf.float32)\n",
    "Y = tf.placeholder(tf.float32)\n",
    "\n",
    "W = tf.Variable(tf.random_uniform( [1, len(x_data)], -1.0, 1.0))\n",
    "h = tf.matmul(W,X)"
   ]
  },
  {
   "cell_type": "code",
   "execution_count": 54,
   "metadata": {
    "ExecuteTime": {
     "end_time": "2017-02-28T22:52:42.958869Z",
     "start_time": "2017-03-01T07:52:42.863855+09:00"
    },
    "collapsed": true
   },
   "outputs": [],
   "source": [
    "\n",
    "hypo = tf.div(1., 1.+tf.exp(-h)) #sigmod\n",
    "cost = -tf.reduce_mean(Y*tf.log(hypo) +(1-Y)*tf.log(1-hypo))\n",
    "\n",
    "a = tf.Variable(0.01)\n",
    "opt = tf.train.GradientDescentOptimizer(a)\n",
    "train = opt.minimize(cost)\n",
    "\n",
    "init = tf.global_variables_initializer()\n"
   ]
  },
  {
   "cell_type": "code",
   "execution_count": 55,
   "metadata": {
    "ExecuteTime": {
     "end_time": "2017-02-28T22:52:43.612290Z",
     "start_time": "2017-03-01T07:52:42.960324+09:00"
    }
   },
   "outputs": [
    {
     "name": "stdout",
     "output_type": "stream",
     "text": [
      "0 0.763696 [[-0.81478399 -0.41983184]]\n",
      "200 0.729601 [[-0.61034018 -0.25884274]]\n",
      "400 0.711588 [[-0.45821941 -0.14667921]]\n",
      "600 0.702479 [[-0.34693977 -0.0714075 ]]\n",
      "800 0.697956 [[-0.26591143 -0.02248928]]\n",
      "[array([[ 0.5       ,  0.50202537,  0.44844124,  0.45044589]], dtype=float32), array([[ 1.,  1.,  0.,  0.]], dtype=float32), array([[False,  True, False,  True]], dtype=bool), 0.5]\n",
      "Accuracy: 0.5\n"
     ]
    }
   ],
   "source": [
    "sess = tf.Session()\n",
    "sess.run(init)\n",
    "for step in range(1000):\n",
    "    sess.run(train, feed_dict={X:x_data, Y:y_data})\n",
    "    if step % 200 == 0:\n",
    "        print(step, sess.run(cost, feed_dict={X:x_data, Y:y_data}),sess.run(W))\n",
    "\n",
    "correct_prediction = tf.equal(tf.floor(hypo+0.5), Y)\n",
    "accuracy = tf.reduce_mean(tf.cast(correct_prediction, \"float\"))\n",
    "print(sess.run([hypo, tf.floor(hypo+0.5), correct_prediction, accuracy], feed_dict={X:x_data, Y:y_data}))\n",
    "print(\"Accuracy:\", accuracy.eval({X:x_data, Y:y_data},session=sess))"
   ]
  },
  {
   "cell_type": "markdown",
   "metadata": {},
   "source": [
    "Does not Work!!!"
   ]
  }
 ],
 "metadata": {
  "kernelspec": {
   "display_name": "Python 3.6",
   "language": "python",
   "name": "python3"
  },
  "language_info": {
   "codemirror_mode": {
    "name": "ipython",
    "version": 3
   },
   "file_extension": ".py",
   "mimetype": "text/x-python",
   "name": "python",
   "nbconvert_exporter": "python",
   "pygments_lexer": "ipython3",
   "version": "3.6.0"
  },
  "latex_envs": {
   "LaTeX_envs_menu_present": true,
   "autocomplete": true,
   "bibliofile": "biblio.bib",
   "cite_by": "apalike",
   "current_citInitial": 1,
   "eqLabelWithNumbers": true,
   "eqNumInitial": 1,
   "hotkeys": {
    "equation": "Ctrl-E",
    "itemize": "Ctrl-I"
   },
   "labels_anchors": false,
   "latex_user_defs": false,
   "report_style_numbering": false,
   "user_envs_cfg": false
  },
  "toc": {
   "colors": {
    "hover_highlight": "#DAA520",
    "running_highlight": "#FF0000",
    "selected_highlight": "#FFD700"
   },
   "moveMenuLeft": true,
   "nav_menu": {
    "height": "30px",
    "width": "252px"
   },
   "navigate_menu": true,
   "number_sections": true,
   "sideBar": true,
   "threshold": 4,
   "toc_cell": false,
   "toc_section_display": "block",
   "toc_window_display": false
  }
 },
 "nbformat": 4,
 "nbformat_minor": 2
}
