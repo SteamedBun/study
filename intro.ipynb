{
 "cells": [
  {
   "cell_type": "markdown",
   "metadata": {
    "deletable": true,
    "editable": true
   },
   "source": [
    "# Meachine Learning\n",
    "\n",
    "![Cheat Sheet](ml_cheat_sheet.png)\n",
    "\n",
    "\n",
    "\n",
    "\n",
    "\n",
    "\n"
   ]
  },
  {
   "cell_type": "markdown",
   "metadata": {
    "deletable": true,
    "editable": true
   },
   "source": [
    "## Regression\n",
    "\n",
    " * Linear Regression(http://localhost:8888/notebooks/study/regression/LinearRegression.ipynb)\n",
    "\n",
    " * Logistic Regression(http://localhost:8888/notebooks/study/regression/LogisticRegression.ipynb)"
   ]
  },
  {
   "cell_type": "markdown",
   "metadata": {
    "deletable": true,
    "editable": true
   },
   "source": [
    "## Classification\n",
    "\n",
    " * Softmax Classification(http://localhost:8888/notebooks/study/classification/Softmax_classification.ipynb)\n",
    " * SVM(http://localhost:8888/notebooks/classification/svm/svm.ipynb)\n",
    " * Decision Tree(http://localhost:8888/notebooks/classification/decision_tree/Decision%20Tree.ipynb)"
   ]
  },
  {
   "cell_type": "markdown",
   "metadata": {
    "deletable": true,
    "editable": true
   },
   "source": [
    "## Clustering\n",
    "\n",
    " * KMeans (http://localhost:8888/notebooks/clustering/KMeans.ipynb)"
   ]
  },
  {
   "cell_type": "markdown",
   "metadata": {
    "ExecuteTime": {
     "end_time": "2017-03-25T00:19:14.852815Z",
     "start_time": "2017-03-25T09:19:14.849578+09:00"
    },
    "deletable": true,
    "editable": true
   },
   "source": [
    "## Dimensionality Reduction"
   ]
  },
  {
   "cell_type": "markdown",
   "metadata": {
    "ExecuteTime": {
     "end_time": "2017-03-25T00:29:27.020945Z",
     "start_time": "2017-03-25T09:29:27.017746+09:00"
    },
    "deletable": true,
    "editable": true
   },
   "source": [
    "# Neural Network\n",
    "\n",
    "## BackPropagation\n",
    "\n",
    "## ReLU\n",
    "\n",
    "## Dropout \n",
    "\n",
    "## Convolutional Neural Networks\n",
    "\n",
    "## Recurrent Neural Network"
   ]
  },
  {
   "cell_type": "markdown",
   "metadata": {
    "ExecuteTime": {
     "end_time": "2017-03-25T00:23:21.105999Z",
     "start_time": "2017-03-25T09:23:21.102876+09:00"
    },
    "deletable": true,
    "editable": true
   },
   "source": [
    "# Deep Learning"
   ]
  },
  {
   "cell_type": "markdown",
   "metadata": {
    "deletable": true,
    "editable": true
   },
   "source": [
    "## DBN"
   ]
  },
  {
   "cell_type": "markdown",
   "metadata": {
    "ExecuteTime": {
     "end_time": "2017-03-25T00:27:52.141707Z",
     "start_time": "2017-03-25T09:27:52.138466+09:00"
    },
    "deletable": true,
    "editable": true
   },
   "source": [
    "## DQN"
   ]
  },
  {
   "cell_type": "markdown",
   "metadata": {
    "ExecuteTime": {
     "end_time": "2017-03-25T00:28:13.173151Z",
     "start_time": "2017-03-25T09:28:13.170431+09:00"
    },
    "deletable": true,
    "editable": true
   },
   "source": [
    "## GAN"
   ]
  },
  {
   "cell_type": "markdown",
   "metadata": {
    "ExecuteTime": {
     "end_time": "2017-03-25T00:34:39.615130Z",
     "start_time": "2017-03-25T09:34:39.612127+09:00"
    },
    "deletable": true,
    "editable": true
   },
   "source": [
    "# Tutor\n",
    "\n",
    "## ML tutorials\n",
    "\n",
    "+ 모두를 위한 머신러닝(https://hunkim.github.io/ml/)\n",
    "+ Coursera Andrew Ng (https://class.coursera.org/ml-003/lecture)\n",
    "+ http://www.holehouse.org/mlclass/\n",
    "+ StanFord tutorial http://deeplearning.stanford.edu/tutorial/\n",
    "\n",
    "## Lecture Videos\n",
    "+ CS231n: Convolutional Neural Networks for Visual Recognition http://cs231n.stanford.edu/syllabus.html\n",
    "+ CS224d: Deep Learning for Natural Language Processing http://cs224d.stanford.edu/syllabus.html\n",
    "\n",
    "## Tensorflow\n",
    "+ Official site https://www.,tensorflow.org\n",
    "+ Simple Tutorials https://github.com/nlintz/TensorFlow-Tutorials\n",
    "+ Another TensorFlow Tutorials https://github.com/pkmital/tensorflow_tutorials\n",
    "+ TensorFlow Examples https://github.com/aymericdamien/TensorFlow-Examples\n",
    "+ Deep Learning @Udacity https://www.udacity.com/course/viewer#!/c-ud730/l-6370362152/m-6379811817\n",
    "+ https://github.com/hunkim/DeepLearningZeroToAll\n"
   ]
  },
  {
   "cell_type": "markdown",
   "metadata": {
    "ExecuteTime": {
     "end_time": "2017-03-25T00:42:06.888861Z",
     "start_time": "2017-03-25T09:42:06.870836+09:00"
    },
    "deletable": true,
    "editable": true
   },
   "source": [
    "###  Article or Paper\n",
    "https://github.com/hunkim/DeepLearningZeroToAll\n",
    "# Stanford TensorFlow\n",
    "http://web.stanford.edu/class/cs20si/syllabus.html\n",
    "# cs224d\n",
    "# cs231n\n",
    "# EnjoyDL\n",
    "https://www.facebook.com/enjoyhavefun/\n",
    "\n",
    "### Tutorial\n",
    "https://github.com/aymericdamien/TensorFlow-Examples\n",
    "https://github.com/nlintz/TensorFlow-Tutorials\n",
    "\n",
    "### Paper\n",
    "https://github.com/nyu-dl/NLP_DL_Lecture_Note/blob/master/lecture_note.pdf\n",
    "\n",
    "### Article \n",
    "#backprop\n",
    "https://medium.com/@karpathy/yes-you-should-understand-backprop-e2f06eab496b#.ggjyiwhyg\n",
    "#PG DQN\n",
    "https://arxiv.org/abs/1702.06230\n",
    "#DOOM\n",
    "https://arxiv.org/pdf/1611.01779.pdf\n",
    "#Chiness chess\n",
    "https://github.com/jireh-father/irelia\n",
    "#Tensorboard in jupyter\n",
    "http://stackoverflow.com/questions/38189119/simple-way-to-visualize-a-tensorflow-graph-in-jupyter\n",
    "\n",
    "#slideshare\n",
    "조형주 님 - High level-api in tensorflow\n",
    "https://www.slideshare.net/Hyun…/high-levelapi-in-tensorflow\n",
    "이태영 님 - Sequence Models and the RNN API Produced\n",
    "https://www.slideshare.net/taey…/2017-tensor-flow-dev-summit\n",
    "전태균 님 - TensorFlow: Tensorboard & Keras\n",
    "https://www.slideshare.net/…/google-dev-summit-extended-seo…\n",
    "김진중 님 - TensorFlow Dev Summit 2017 요약\n",
    "https://www.slideshare.net/hacke…/tensorflow-dev-summit-2017\n",
    "\n",
    "#book\n",
    "TensorFlow For Machine Intelligence: A hands-on introduction to learning algorithms Kindle Edition\n",
    "by Sam Abrahams (Author), Danijar Hafner (Author), Erik Erwitt (Author), Ariel Scarpinelli (Author), etc.\n",
    "\n",
    "#github\n",
    "#chatbot\n",
    "jin kim(golbin)\n",
    "#seq2seq\n",
    "http://suriyadeepan.github.io/2016-12-31-practical-seq2seq/\n"
   ]
  },
  {
   "cell_type": "code",
   "execution_count": null,
   "metadata": {
    "collapsed": true,
    "deletable": true,
    "editable": true
   },
   "outputs": [],
   "source": []
  }
 ],
 "metadata": {
  "kernelspec": {
   "display_name": "Python36",
   "language": "python",
   "name": "python3"
  },
  "language_info": {
   "codemirror_mode": {
    "name": "ipython",
    "version": 3
   },
   "file_extension": ".py",
   "mimetype": "text/x-python",
   "name": "python",
   "nbconvert_exporter": "python",
   "pygments_lexer": "ipython3",
   "version": "3.6.0"
  },
  "latex_envs": {
   "LaTeX_envs_menu_present": true,
   "autocomplete": true,
   "bibliofile": "biblio.bib",
   "cite_by": "apalike",
   "current_citInitial": 1,
   "eqLabelWithNumbers": true,
   "eqNumInitial": 1,
   "hotkeys": {
    "equation": "Ctrl-E",
    "itemize": "Ctrl-I"
   },
   "labels_anchors": false,
   "latex_user_defs": false,
   "report_style_numbering": false,
   "user_envs_cfg": false
  },
  "toc": {
   "colors": {
    "hover_highlight": "#DAA520",
    "running_highlight": "#FF0000",
    "selected_highlight": "#FFD700"
   },
   "moveMenuLeft": true,
   "nav_menu": {
    "height": "498px",
    "width": "252px"
   },
   "navigate_menu": true,
   "number_sections": true,
   "sideBar": true,
   "threshold": 4,
   "toc_cell": false,
   "toc_section_display": "block",
   "toc_window_display": false
  }
 },
 "nbformat": 4,
 "nbformat_minor": 2
}
